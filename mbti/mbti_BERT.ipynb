{
 "cells": [
  {
   "cell_type": "code",
   "execution_count": 2,
   "id": "cce6646e",
   "metadata": {},
   "outputs": [],
   "source": [
    "import pandas as pd\n",
    "import numpy as np\n",
    "\n",
    "from eunjeon import Mecab\n",
    "\n",
    "import torch\n",
    "import torch.nn.functional as F\n",
    "import torchtext.transforms as T\n",
    "\n",
    "from torch import nn, Tensor\n",
    "from torch.nn import TransformerEncoder, TransformerEncoderLayer\n",
    "from torch.optim import AdamW\n",
    "\n",
    "from torch.utils.data import Dataset\n",
    "from torch.utils.data import TensorDataset\n",
    "from torch.utils.data import DataLoader\n",
    "from torchtext.nn import MultiheadAttentionContainer, InProjContainer, ScaledDotProduct\n",
    "from torch.nn.utils.rnn import pad_sequence\n",
    "from torchtext.data import get_tokenizer\n",
    "from torchtext.vocab import vocab, Vocab\n",
    "from torchtext.transforms import VocabTransform, ToTensor\n",
    "\n",
    "from sklearn.model_selection import train_test_split\n",
    "\n",
    "import os\n",
    "\n",
    "import sentencepiece as spm\n",
    "\n",
    "from transformers import BertTokenizer, BertForSequenceClassification"
   ]
  },
  {
   "cell_type": "markdown",
   "id": "5b293229",
   "metadata": {},
   "source": [
    "# Dataset"
   ]
  },
  {
   "cell_type": "code",
   "execution_count": 3,
   "id": "9c0dcc0d",
   "metadata": {},
   "outputs": [],
   "source": [
    "dataset = pd.read_csv(os.path.join('..','mbti_y', 'mbti_clean.csv'))"
   ]
  },
  {
   "cell_type": "code",
   "execution_count": 4,
   "id": "bcaa4d68",
   "metadata": {},
   "outputs": [
    {
     "data": {
      "text/html": [
       "<div>\n",
       "<style scoped>\n",
       "    .dataframe tbody tr th:only-of-type {\n",
       "        vertical-align: middle;\n",
       "    }\n",
       "\n",
       "    .dataframe tbody tr th {\n",
       "        vertical-align: top;\n",
       "    }\n",
       "\n",
       "    .dataframe thead th {\n",
       "        text-align: right;\n",
       "    }\n",
       "</style>\n",
       "<table border=\"1\" class=\"dataframe\">\n",
       "  <thead>\n",
       "    <tr style=\"text-align: right;\">\n",
       "      <th></th>\n",
       "      <th>type</th>\n",
       "      <th>posts</th>\n",
       "    </tr>\n",
       "  </thead>\n",
       "  <tbody>\n",
       "    <tr>\n",
       "      <th>0</th>\n",
       "      <td>INFJ</td>\n",
       "      <td>moments sportscenter top ten plays pranks lif...</td>\n",
       "    </tr>\n",
       "    <tr>\n",
       "      <th>1</th>\n",
       "      <td>ENTP</td>\n",
       "      <td>finding lack posts alarming sex boring positio...</td>\n",
       "    </tr>\n",
       "    <tr>\n",
       "      <th>2</th>\n",
       "      <td>INTP</td>\n",
       "      <td>good one course say know blessing curse absolu...</td>\n",
       "    </tr>\n",
       "    <tr>\n",
       "      <th>3</th>\n",
       "      <td>INTJ</td>\n",
       "      <td>dear  enjoyed conversation day esoteric gabbin...</td>\n",
       "    </tr>\n",
       "    <tr>\n",
       "      <th>4</th>\n",
       "      <td>ENTJ</td>\n",
       "      <td>fired another silly misconception approaching ...</td>\n",
       "    </tr>\n",
       "    <tr>\n",
       "      <th>...</th>\n",
       "      <td>...</td>\n",
       "      <td>...</td>\n",
       "    </tr>\n",
       "    <tr>\n",
       "      <th>8670</th>\n",
       "      <td>ISFP</td>\n",
       "      <td>always think cats fi doms reason websites beco...</td>\n",
       "    </tr>\n",
       "    <tr>\n",
       "      <th>8671</th>\n",
       "      <td>ENFP</td>\n",
       "      <td>thread already exists someplace else heck dele...</td>\n",
       "    </tr>\n",
       "    <tr>\n",
       "      <th>8672</th>\n",
       "      <td>INTP</td>\n",
       "      <td>many questions things would take purple pill p...</td>\n",
       "    </tr>\n",
       "    <tr>\n",
       "      <th>8673</th>\n",
       "      <td>INFP</td>\n",
       "      <td>conflicted right comes wanting children honest...</td>\n",
       "    </tr>\n",
       "    <tr>\n",
       "      <th>8674</th>\n",
       "      <td>INFP</td>\n",
       "      <td>long since personalitycafe although seem chang...</td>\n",
       "    </tr>\n",
       "  </tbody>\n",
       "</table>\n",
       "<p>8675 rows × 2 columns</p>\n",
       "</div>"
      ],
      "text/plain": [
       "      type                                              posts\n",
       "0     INFJ   moments sportscenter top ten plays pranks lif...\n",
       "1     ENTP  finding lack posts alarming sex boring positio...\n",
       "2     INTP  good one course say know blessing curse absolu...\n",
       "3     INTJ  dear  enjoyed conversation day esoteric gabbin...\n",
       "4     ENTJ  fired another silly misconception approaching ...\n",
       "...    ...                                                ...\n",
       "8670  ISFP  always think cats fi doms reason websites beco...\n",
       "8671  ENFP  thread already exists someplace else heck dele...\n",
       "8672  INTP  many questions things would take purple pill p...\n",
       "8673  INFP  conflicted right comes wanting children honest...\n",
       "8674  INFP  long since personalitycafe although seem chang...\n",
       "\n",
       "[8675 rows x 2 columns]"
      ]
     },
     "execution_count": 4,
     "metadata": {},
     "output_type": "execute_result"
    }
   ],
   "source": [
    "dataset"
   ]
  },
  {
   "cell_type": "code",
   "execution_count": 5,
   "id": "b76ecfcb",
   "metadata": {},
   "outputs": [],
   "source": [
    "dataset_shuffled = dataset.sample(frac=1)"
   ]
  },
  {
   "cell_type": "code",
   "execution_count": 6,
   "id": "526e9ce0",
   "metadata": {},
   "outputs": [
    {
     "data": {
      "text/html": [
       "<div>\n",
       "<style scoped>\n",
       "    .dataframe tbody tr th:only-of-type {\n",
       "        vertical-align: middle;\n",
       "    }\n",
       "\n",
       "    .dataframe tbody tr th {\n",
       "        vertical-align: top;\n",
       "    }\n",
       "\n",
       "    .dataframe thead th {\n",
       "        text-align: right;\n",
       "    }\n",
       "</style>\n",
       "<table border=\"1\" class=\"dataframe\">\n",
       "  <thead>\n",
       "    <tr style=\"text-align: right;\">\n",
       "      <th></th>\n",
       "      <th>type</th>\n",
       "      <th>posts</th>\n",
       "    </tr>\n",
       "  </thead>\n",
       "  <tbody>\n",
       "    <tr>\n",
       "      <th>5101</th>\n",
       "      <td>INTJ</td>\n",
       "      <td>thanks reply skeptical makes sense frankly bit...</td>\n",
       "    </tr>\n",
       "    <tr>\n",
       "      <th>3216</th>\n",
       "      <td>INTJ</td>\n",
       "      <td>realisation shorts liner difficult put would a...</td>\n",
       "    </tr>\n",
       "    <tr>\n",
       "      <th>5390</th>\n",
       "      <td>INFJ</td>\n",
       "      <td>known couple  guys seem lack better term easy ...</td>\n",
       "    </tr>\n",
       "    <tr>\n",
       "      <th>1308</th>\n",
       "      <td>ENTP</td>\n",
       "      <td>approaching would serial killer perspective gu...</td>\n",
       "    </tr>\n",
       "    <tr>\n",
       "      <th>7065</th>\n",
       "      <td>INFJ</td>\n",
       "      <td>hello sadly idea remember caanot even begin co...</td>\n",
       "    </tr>\n",
       "    <tr>\n",
       "      <th>...</th>\n",
       "      <td>...</td>\n",
       "      <td>...</td>\n",
       "    </tr>\n",
       "    <tr>\n",
       "      <th>5043</th>\n",
       "      <td>ENTP</td>\n",
       "      <td>house goal apparently predisposition us like s...</td>\n",
       "    </tr>\n",
       "    <tr>\n",
       "      <th>331</th>\n",
       "      <td>INFP</td>\n",
       "      <td>quantity quality love waterhouse work work pro...</td>\n",
       "    </tr>\n",
       "    <tr>\n",
       "      <th>690</th>\n",
       "      <td>ESFP</td>\n",
       "      <td>go home farnsworth  fry  bender  although prog...</td>\n",
       "    </tr>\n",
       "    <tr>\n",
       "      <th>267</th>\n",
       "      <td>ISTJ</td>\n",
       "      <td>say lot online tests wonder get confused riso ...</td>\n",
       "    </tr>\n",
       "    <tr>\n",
       "      <th>4366</th>\n",
       "      <td>INTJ</td>\n",
       "      <td>annoying someone quotes sentence felt like rat...</td>\n",
       "    </tr>\n",
       "  </tbody>\n",
       "</table>\n",
       "<p>8675 rows × 2 columns</p>\n",
       "</div>"
      ],
      "text/plain": [
       "      type                                              posts\n",
       "5101  INTJ  thanks reply skeptical makes sense frankly bit...\n",
       "3216  INTJ  realisation shorts liner difficult put would a...\n",
       "5390  INFJ  known couple  guys seem lack better term easy ...\n",
       "1308  ENTP  approaching would serial killer perspective gu...\n",
       "7065  INFJ  hello sadly idea remember caanot even begin co...\n",
       "...    ...                                                ...\n",
       "5043  ENTP  house goal apparently predisposition us like s...\n",
       "331   INFP  quantity quality love waterhouse work work pro...\n",
       "690   ESFP  go home farnsworth  fry  bender  although prog...\n",
       "267   ISTJ  say lot online tests wonder get confused riso ...\n",
       "4366  INTJ  annoying someone quotes sentence felt like rat...\n",
       "\n",
       "[8675 rows x 2 columns]"
      ]
     },
     "execution_count": 6,
     "metadata": {},
     "output_type": "execute_result"
    }
   ],
   "source": [
    "dataset_shuffled"
   ]
  },
  {
   "cell_type": "code",
   "execution_count": 7,
   "id": "a03c3547",
   "metadata": {},
   "outputs": [],
   "source": [
    "x = dataset['posts']\n",
    "y = dataset['type']\n",
    "\n",
    "x_train, x_temp, y_train, y_temp = train_test_split(x, y, test_size=0.4, shuffle=True, stratify=y, random_state=12)\n",
    "\n",
    "x_val, x_test, y_val, y_test = train_test_split(x_temp, y_temp, test_size=0.5, shuffle=True, stratify=y_temp, random_state=12)"
   ]
  },
  {
   "cell_type": "code",
   "execution_count": 10,
   "id": "e76e94f7",
   "metadata": {},
   "outputs": [
    {
     "name": "stdout",
     "output_type": "stream",
     "text": [
      "(5205,)\n",
      "(5205,)\n",
      "\n",
      "(1735,)\n",
      "(1735,)\n",
      "\n",
      "(1735,)\n",
      "(1735,)\n",
      "\n"
     ]
    }
   ],
   "source": [
    "print(x_train.shape)\n",
    "print(y_train.shape)\n",
    "print()\n",
    "\n",
    "print(x_val.shape)\n",
    "print(y_val.shape)\n",
    "print()\n",
    "\n",
    "print(x_test.shape)\n",
    "print(y_test.shape)\n",
    "print()\n"
   ]
  },
  {
   "cell_type": "code",
   "execution_count": 12,
   "id": "f5f6e41e",
   "metadata": {},
   "outputs": [],
   "source": [
    "def to_int(x):\n",
    "    types = ['INTJ', 'INTP', 'ENTJ', 'ENTP', 'INFJ', 'INFP', 'ENFJ', 'ENFP', 'ISTJ', 'ISFJ', 'ESTJ', 'ESFJ', 'ISTP', 'ISFP', 'ESTP', 'ESFP']\n",
    "    integers = [0, 1, 2, 3, 4, 5, 6, 7, 8, 9, 10, 11, 12, 13, 14, 15]\n",
    "    for i in range(len(integers)):\n",
    "        if x == types[i]:\n",
    "            result = integers[i] \n",
    "    return result\n",
    "\n",
    "def label_encoding(df_y):\n",
    "    return df_y.apply(to_int)\n",
    "    \n",
    "def one_hot_encode(label, num_classes):\n",
    "    \n",
    "    encoded_label = np.zeros(num_classes)\n",
    "    encoded_label[label] = 1\n",
    "    return encoded_label"
   ]
  },
  {
   "cell_type": "code",
   "execution_count": 17,
   "id": "8e471a79",
   "metadata": {},
   "outputs": [
    {
     "data": {
      "text/plain": [
       "torch.Size([10, 30])"
      ]
     },
     "execution_count": 17,
     "metadata": {},
     "output_type": "execute_result"
    }
   ],
   "source": [
    "encoded_y.shape"
   ]
  },
  {
   "cell_type": "code",
   "execution_count": 26,
   "id": "77e70361",
   "metadata": {},
   "outputs": [
    {
     "data": {
      "text/plain": [
       "torch.Size([1, 12])"
      ]
     },
     "execution_count": 26,
     "metadata": {},
     "output_type": "execute_result"
    }
   ],
   "source": [
    "tokens['input_ids'].shape"
   ]
  },
  {
   "cell_type": "code",
   "execution_count": 30,
   "id": "997c782b",
   "metadata": {},
   "outputs": [
    {
     "data": {
      "text/plain": [
       "10"
      ]
     },
     "execution_count": 30,
     "metadata": {},
     "output_type": "execute_result"
    }
   ],
   "source": [
    "len(input_text.tolist())"
   ]
  },
  {
   "cell_type": "code",
   "execution_count": 34,
   "id": "bbeab6c2",
   "metadata": {},
   "outputs": [
    {
     "name": "stderr",
     "output_type": "stream",
     "text": [
      "Some weights of the model checkpoint at bert-base-uncased were not used when initializing BertForSequenceClassification: ['cls.predictions.transform.LayerNorm.bias', 'cls.predictions.transform.dense.weight', 'cls.predictions.transform.dense.bias', 'cls.predictions.bias', 'cls.predictions.transform.LayerNorm.weight', 'cls.seq_relationship.bias', 'cls.predictions.decoder.weight', 'cls.seq_relationship.weight']\n",
      "- This IS expected if you are initializing BertForSequenceClassification from the checkpoint of a model trained on another task or with another architecture (e.g. initializing a BertForSequenceClassification model from a BertForPreTraining model).\n",
      "- This IS NOT expected if you are initializing BertForSequenceClassification from the checkpoint of a model that you expect to be exactly identical (initializing a BertForSequenceClassification model from a BertForSequenceClassification model).\n",
      "Some weights of BertForSequenceClassification were not initialized from the model checkpoint at bert-base-uncased and are newly initialized: ['classifier.weight', 'classifier.bias']\n",
      "You should probably TRAIN this model on a down-stream task to be able to use it for predictions and inference.\n"
     ]
    },
    {
     "name": "stdout",
     "output_type": "stream",
     "text": [
      "predicted_labels:  tensor([ 5,  5, 22,  5,  5,  5,  5,  5,  5,  5])\n"
     ]
    }
   ],
   "source": [
    "input_text = x_train[:10]\n",
    "label = y_train[:10]\n",
    "\n",
    "tokenizer = BertTokenizer.from_pretrained('bert-base-uncased')\n",
    "model = BertForSequenceClassification.from_pretrained('bert-base-uncased', num_labels=30)\n",
    "\n",
    "tokens = tokenizer(input_text.tolist(), add_special_tokens=True, truncation=True, padding=True, return_tensors='pt')\n",
    "\n",
    "y = label_encoding(label)\n",
    "encoded_labels = y.apply(lambda y: one_hot_encode(label=y, num_classes=30))\n",
    "encoded_y = torch.tensor(encoded_labels.tolist(), dtype=torch.float)\n",
    "\n",
    "outputs = model(**tokens, labels=encoded_y)\n",
    "loss = outputs.loss\n",
    "loss.backward()\n",
    "\n",
    "predictions = torch.softmax(outputs.logits, dim=1)\n",
    "predicted_labels = torch.argmax(predictions, dim=1)\n",
    "\n",
    "print(\"predicted_labels: \", predicted_labels)"
   ]
  },
  {
   "cell_type": "code",
   "execution_count": null,
   "id": "3af3c9d8",
   "metadata": {},
   "outputs": [],
   "source": []
  }
 ],
 "metadata": {
  "kernelspec": {
   "display_name": "Python 3 (ipykernel)",
   "language": "python",
   "name": "python3"
  },
  "language_info": {
   "codemirror_mode": {
    "name": "ipython",
    "version": 3
   },
   "file_extension": ".py",
   "mimetype": "text/x-python",
   "name": "python",
   "nbconvert_exporter": "python",
   "pygments_lexer": "ipython3",
   "version": "3.9.13"
  }
 },
 "nbformat": 4,
 "nbformat_minor": 5
}
